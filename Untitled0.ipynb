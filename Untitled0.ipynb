{
  "nbformat": 4,
  "nbformat_minor": 0,
  "metadata": {
    "colab": {
      "name": "Untitled0.ipynb",
      "provenance": [],
      "authorship_tag": "ABX9TyN1ejZlv4/ulf2BGgdgTEO4",
      "include_colab_link": true
    },
    "kernelspec": {
      "name": "python3",
      "display_name": "Python 3"
    }
  },
  "cells": [
    {
      "cell_type": "markdown",
      "metadata": {
        "id": "view-in-github",
        "colab_type": "text"
      },
      "source": [
        "<a href=\"https://colab.research.google.com/github/oytizo/project-on-c-/blob/master/Untitled0.ipynb\" target=\"_parent\"><img src=\"https://colab.research.google.com/assets/colab-badge.svg\" alt=\"Open In Colab\"/></a>"
      ]
    },
    {
      "cell_type": "code",
      "metadata": {
        "id": "G2Gd2yBOsFaU",
        "outputId": "0703ddeb-410a-4a88-c1cc-027a09c9bccf",
        "colab": {
          "base_uri": "https://localhost:8080/",
          "height": 358
        }
      },
      "source": [
        "import numpy as np\n",
        "import matplotlib.pyplot as plt\n",
        "\n",
        "\n",
        "x=np.array([6,8,12,14,18])\n",
        "y=np.array([350,775,1150,1395,1675])\n",
        "sum=0\n",
        "for a in range(5):\n",
        "  sum=x[a]+sum\n",
        "  \n",
        "\n",
        "x_avg=np.average(x)\n",
        "y_avg=np.average(y)\n",
        "xy=x*y\n",
        "xx=x*x\n",
        "print(xy)\n",
        "print(xx)\n",
        "xy_avg=np.average(xy)\n",
        "xx_avg=np.average(xx)\n",
        "m=((x_avg*y_avg)-xy_avg)/(x_avg*x_avg-xx_avg)\n",
        "c=y_avg-m*x_avg\n",
        "prediction=np.array(m*x+c)\n",
        "print(prediction)\n",
        "print(m)\n",
        "print(c)\n",
        "\n",
        "plt.scatter(x,y)\n",
        "plt.plot(x,(m*x+c))\n",
        "plt.show()"
      ],
      "execution_count": 25,
      "outputs": [
        {
          "output_type": "stream",
          "text": [
            "[ 2100  6200 13800 19530 30150]\n",
            "[ 36  64 144 196 324]\n",
            "[ 468.59649123  683.02631579 1111.88596491 1326.31578947 1755.1754386 ]\n",
            "107.21491228070172\n",
            "-174.69298245614004\n"
          ],
          "name": "stdout"
        },
        {
          "output_type": "display_data",
          "data": {
            "image/png": "[encoded data removed]",
            "text/plain": [
              "<Figure size 432x288 with 1 Axes>"
            ]
          },
          "metadata": {
            "tags": [],
            "needs_background": "light"
          }
        }
      ]
    }
  ]
}